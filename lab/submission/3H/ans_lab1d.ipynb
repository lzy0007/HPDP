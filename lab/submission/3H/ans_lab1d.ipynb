{
  "cells": [
    {
      "cell_type": "markdown",
      "metadata": {
        "id": "view-in-github",
        "colab_type": "text"
      },
      "source": [
        "<a href=\"https://colab.research.google.com/github/drshahizan/HPDP/blob/main/lab/submission/3H/lab1d.ipynb\" target=\"_parent\"><img src=\"https://colab.research.google.com/assets/colab-badge.svg\" alt=\"Open In Colab\"/></a>"
      ]
    },
    {
      "cell_type": "markdown",
      "metadata": {
        "id": "82Wipr6k1Qko"
      },
      "source": [
        "# Lab 1d - Filtering and Sorting Data"
      ]
    },
    {
      "cell_type": "markdown",
      "metadata": {
        "id": "8qoSZWzl1Qkx"
      },
      "source": [
        "Please use the [**Chipotle Sales dataset**](https://raw.githubusercontent.com/drshahizan/dataset/main/pandas/chipotle.tsv) for this exercise.\n",
        "\n",
        "### Step 1. Import the necessary libraries"
      ]
    },
    {
      "cell_type": "code",
      "execution_count": 2,
      "metadata": {
        "colab": {
          "base_uri": "https://localhost:8080/"
        },
        "id": "MW4gU4l11Qkx",
        "outputId": "ca7c4693-97b1-4527-ac1d-34baf20896a9"
      },
      "outputs": [
        {
          "output_type": "stream",
          "name": "stdout",
          "text": [
            "Requirement already satisfied: pandas in /usr/local/lib/python3.10/dist-packages (1.5.3)\n",
            "Requirement already satisfied: python-dateutil>=2.8.1 in /usr/local/lib/python3.10/dist-packages (from pandas) (2.8.2)\n",
            "Requirement already satisfied: pytz>=2020.1 in /usr/local/lib/python3.10/dist-packages (from pandas) (2023.3.post1)\n",
            "Requirement already satisfied: numpy>=1.21.0 in /usr/local/lib/python3.10/dist-packages (from pandas) (1.23.5)\n",
            "Requirement already satisfied: six>=1.5 in /usr/local/lib/python3.10/dist-packages (from python-dateutil>=2.8.1->pandas) (1.16.0)\n"
          ]
        }
      ],
      "source": [
        "import pandas as pd\n",
        "!pip install pandas\n"
      ]
    },
    {
      "cell_type": "markdown",
      "metadata": {
        "id": "ibWRCQDq1Qky"
      },
      "source": [
        "### Step 2. Import the dataset from this [address](https://raw.githubusercontent.com/justmarkham/DAT8/master/data/chipotle.tsv)."
      ]
    },
    {
      "cell_type": "markdown",
      "metadata": {
        "id": "WtGEG1yO1Qky"
      },
      "source": [
        "### Step 3. Assign it to a variable called chipo."
      ]
    },
    {
      "cell_type": "code",
      "execution_count": 29,
      "metadata": {
        "colab": {
          "base_uri": "https://localhost:8080/",
          "height": 424
        },
        "id": "AmIiW-KL1Qky",
        "outputId": "13872572-ce78-499c-faa5-511217f6392a"
      },
      "outputs": [
        {
          "output_type": "execute_result",
          "data": {
            "text/plain": [
              "      order_id  quantity                              item_name  \\\n",
              "0            1         1           Chips and Fresh Tomato Salsa   \n",
              "1            1         1                                   Izze   \n",
              "2            1         1                       Nantucket Nectar   \n",
              "3            1         1  Chips and Tomatillo-Green Chili Salsa   \n",
              "4            2         2                           Chicken Bowl   \n",
              "...        ...       ...                                    ...   \n",
              "4617      1833         1                          Steak Burrito   \n",
              "4618      1833         1                          Steak Burrito   \n",
              "4619      1834         1                     Chicken Salad Bowl   \n",
              "4620      1834         1                     Chicken Salad Bowl   \n",
              "4621      1834         1                     Chicken Salad Bowl   \n",
              "\n",
              "                                     choice_description item_price  \n",
              "0                                                   NaN     $2.39   \n",
              "1                                          [Clementine]     $3.39   \n",
              "2                                               [Apple]     $3.39   \n",
              "3                                                   NaN     $2.39   \n",
              "4     [Tomatillo-Red Chili Salsa (Hot), [Black Beans...    $16.98   \n",
              "...                                                 ...        ...  \n",
              "4617  [Fresh Tomato Salsa, [Rice, Black Beans, Sour ...    $11.75   \n",
              "4618  [Fresh Tomato Salsa, [Rice, Sour Cream, Cheese...    $11.75   \n",
              "4619  [Fresh Tomato Salsa, [Fajita Vegetables, Pinto...    $11.25   \n",
              "4620  [Fresh Tomato Salsa, [Fajita Vegetables, Lettu...     $8.75   \n",
              "4621  [Fresh Tomato Salsa, [Fajita Vegetables, Pinto...     $8.75   \n",
              "\n",
              "[4622 rows x 5 columns]"
            ],
            "text/html": [
              "\n",
              "  <div id=\"df-189fb478-a7e3-4ccc-994d-6b8b06b44d8d\" class=\"colab-df-container\">\n",
              "    <div>\n",
              "<style scoped>\n",
              "    .dataframe tbody tr th:only-of-type {\n",
              "        vertical-align: middle;\n",
              "    }\n",
              "\n",
              "    .dataframe tbody tr th {\n",
              "        vertical-align: top;\n",
              "    }\n",
              "\n",
              "    .dataframe thead th {\n",
              "        text-align: right;\n",
              "    }\n",
              "</style>\n",
              "<table border=\"1\" class=\"dataframe\">\n",
              "  <thead>\n",
              "    <tr style=\"text-align: right;\">\n",
              "      <th></th>\n",
              "      <th>order_id</th>\n",
              "      <th>quantity</th>\n",
              "      <th>item_name</th>\n",
              "      <th>choice_description</th>\n",
              "      <th>item_price</th>\n",
              "    </tr>\n",
              "  </thead>\n",
              "  <tbody>\n",
              "    <tr>\n",
              "      <th>0</th>\n",
              "      <td>1</td>\n",
              "      <td>1</td>\n",
              "      <td>Chips and Fresh Tomato Salsa</td>\n",
              "      <td>NaN</td>\n",
              "      <td>$2.39</td>\n",
              "    </tr>\n",
              "    <tr>\n",
              "      <th>1</th>\n",
              "      <td>1</td>\n",
              "      <td>1</td>\n",
              "      <td>Izze</td>\n",
              "      <td>[Clementine]</td>\n",
              "      <td>$3.39</td>\n",
              "    </tr>\n",
              "    <tr>\n",
              "      <th>2</th>\n",
              "      <td>1</td>\n",
              "      <td>1</td>\n",
              "      <td>Nantucket Nectar</td>\n",
              "      <td>[Apple]</td>\n",
              "      <td>$3.39</td>\n",
              "    </tr>\n",
              "    <tr>\n",
              "      <th>3</th>\n",
              "      <td>1</td>\n",
              "      <td>1</td>\n",
              "      <td>Chips and Tomatillo-Green Chili Salsa</td>\n",
              "      <td>NaN</td>\n",
              "      <td>$2.39</td>\n",
              "    </tr>\n",
              "    <tr>\n",
              "      <th>4</th>\n",
              "      <td>2</td>\n",
              "      <td>2</td>\n",
              "      <td>Chicken Bowl</td>\n",
              "      <td>[Tomatillo-Red Chili Salsa (Hot), [Black Beans...</td>\n",
              "      <td>$16.98</td>\n",
              "    </tr>\n",
              "    <tr>\n",
              "      <th>...</th>\n",
              "      <td>...</td>\n",
              "      <td>...</td>\n",
              "      <td>...</td>\n",
              "      <td>...</td>\n",
              "      <td>...</td>\n",
              "    </tr>\n",
              "    <tr>\n",
              "      <th>4617</th>\n",
              "      <td>1833</td>\n",
              "      <td>1</td>\n",
              "      <td>Steak Burrito</td>\n",
              "      <td>[Fresh Tomato Salsa, [Rice, Black Beans, Sour ...</td>\n",
              "      <td>$11.75</td>\n",
              "    </tr>\n",
              "    <tr>\n",
              "      <th>4618</th>\n",
              "      <td>1833</td>\n",
              "      <td>1</td>\n",
              "      <td>Steak Burrito</td>\n",
              "      <td>[Fresh Tomato Salsa, [Rice, Sour Cream, Cheese...</td>\n",
              "      <td>$11.75</td>\n",
              "    </tr>\n",
              "    <tr>\n",
              "      <th>4619</th>\n",
              "      <td>1834</td>\n",
              "      <td>1</td>\n",
              "      <td>Chicken Salad Bowl</td>\n",
              "      <td>[Fresh Tomato Salsa, [Fajita Vegetables, Pinto...</td>\n",
              "      <td>$11.25</td>\n",
              "    </tr>\n",
              "    <tr>\n",
              "      <th>4620</th>\n",
              "      <td>1834</td>\n",
              "      <td>1</td>\n",
              "      <td>Chicken Salad Bowl</td>\n",
              "      <td>[Fresh Tomato Salsa, [Fajita Vegetables, Lettu...</td>\n",
              "      <td>$8.75</td>\n",
              "    </tr>\n",
              "    <tr>\n",
              "      <th>4621</th>\n",
              "      <td>1834</td>\n",
              "      <td>1</td>\n",
              "      <td>Chicken Salad Bowl</td>\n",
              "      <td>[Fresh Tomato Salsa, [Fajita Vegetables, Pinto...</td>\n",
              "      <td>$8.75</td>\n",
              "    </tr>\n",
              "  </tbody>\n",
              "</table>\n",
              "<p>4622 rows × 5 columns</p>\n",
              "</div>\n",
              "    <div class=\"colab-df-buttons\">\n",
              "\n",
              "  <div class=\"colab-df-container\">\n",
              "    <button class=\"colab-df-convert\" onclick=\"convertToInteractive('df-189fb478-a7e3-4ccc-994d-6b8b06b44d8d')\"\n",
              "            title=\"Convert this dataframe to an interactive table.\"\n",
              "            style=\"display:none;\">\n",
              "\n",
              "  <svg xmlns=\"http://www.w3.org/2000/svg\" height=\"24px\" viewBox=\"0 -960 960 960\">\n",
              "    <path d=\"M120-120v-720h720v720H120Zm60-500h600v-160H180v160Zm220 220h160v-160H400v160Zm0 220h160v-160H400v160ZM180-400h160v-160H180v160Zm440 0h160v-160H620v160ZM180-180h160v-160H180v160Zm440 0h160v-160H620v160Z\"/>\n",
              "  </svg>\n",
              "    </button>\n",
              "\n",
              "  <style>\n",
              "    .colab-df-container {\n",
              "      display:flex;\n",
              "      gap: 12px;\n",
              "    }\n",
              "\n",
              "    .colab-df-convert {\n",
              "      background-color: #E8F0FE;\n",
              "      border: none;\n",
              "      border-radius: 50%;\n",
              "      cursor: pointer;\n",
              "      display: none;\n",
              "      fill: #1967D2;\n",
              "      height: 32px;\n",
              "      padding: 0 0 0 0;\n",
              "      width: 32px;\n",
              "    }\n",
              "\n",
              "    .colab-df-convert:hover {\n",
              "      background-color: #E2EBFA;\n",
              "      box-shadow: 0px 1px 2px rgba(60, 64, 67, 0.3), 0px 1px 3px 1px rgba(60, 64, 67, 0.15);\n",
              "      fill: #174EA6;\n",
              "    }\n",
              "\n",
              "    .colab-df-buttons div {\n",
              "      margin-bottom: 4px;\n",
              "    }\n",
              "\n",
              "    [theme=dark] .colab-df-convert {\n",
              "      background-color: #3B4455;\n",
              "      fill: #D2E3FC;\n",
              "    }\n",
              "\n",
              "    [theme=dark] .colab-df-convert:hover {\n",
              "      background-color: #434B5C;\n",
              "      box-shadow: 0px 1px 3px 1px rgba(0, 0, 0, 0.15);\n",
              "      filter: drop-shadow(0px 1px 2px rgba(0, 0, 0, 0.3));\n",
              "      fill: #FFFFFF;\n",
              "    }\n",
              "  </style>\n",
              "\n",
              "    <script>\n",
              "      const buttonEl =\n",
              "        document.querySelector('#df-189fb478-a7e3-4ccc-994d-6b8b06b44d8d button.colab-df-convert');\n",
              "      buttonEl.style.display =\n",
              "        google.colab.kernel.accessAllowed ? 'block' : 'none';\n",
              "\n",
              "      async function convertToInteractive(key) {\n",
              "        const element = document.querySelector('#df-189fb478-a7e3-4ccc-994d-6b8b06b44d8d');\n",
              "        const dataTable =\n",
              "          await google.colab.kernel.invokeFunction('convertToInteractive',\n",
              "                                                    [key], {});\n",
              "        if (!dataTable) return;\n",
              "\n",
              "        const docLinkHtml = 'Like what you see? Visit the ' +\n",
              "          '<a target=\"_blank\" href=https://colab.research.google.com/notebooks/data_table.ipynb>data table notebook</a>'\n",
              "          + ' to learn more about interactive tables.';\n",
              "        element.innerHTML = '';\n",
              "        dataTable['output_type'] = 'display_data';\n",
              "        await google.colab.output.renderOutput(dataTable, element);\n",
              "        const docLink = document.createElement('div');\n",
              "        docLink.innerHTML = docLinkHtml;\n",
              "        element.appendChild(docLink);\n",
              "      }\n",
              "    </script>\n",
              "  </div>\n",
              "\n",
              "\n",
              "<div id=\"df-483e09b2-fcc5-4e21-a285-a9f388fa3539\">\n",
              "  <button class=\"colab-df-quickchart\" onclick=\"quickchart('df-483e09b2-fcc5-4e21-a285-a9f388fa3539')\"\n",
              "            title=\"Suggest charts.\"\n",
              "            style=\"display:none;\">\n",
              "\n",
              "<svg xmlns=\"http://www.w3.org/2000/svg\" height=\"24px\"viewBox=\"0 0 24 24\"\n",
              "     width=\"24px\">\n",
              "    <g>\n",
              "        <path d=\"M19 3H5c-1.1 0-2 .9-2 2v14c0 1.1.9 2 2 2h14c1.1 0 2-.9 2-2V5c0-1.1-.9-2-2-2zM9 17H7v-7h2v7zm4 0h-2V7h2v10zm4 0h-2v-4h2v4z\"/>\n",
              "    </g>\n",
              "</svg>\n",
              "  </button>\n",
              "\n",
              "<style>\n",
              "  .colab-df-quickchart {\n",
              "      --bg-color: #E8F0FE;\n",
              "      --fill-color: #1967D2;\n",
              "      --hover-bg-color: #E2EBFA;\n",
              "      --hover-fill-color: #174EA6;\n",
              "      --disabled-fill-color: #AAA;\n",
              "      --disabled-bg-color: #DDD;\n",
              "  }\n",
              "\n",
              "  [theme=dark] .colab-df-quickchart {\n",
              "      --bg-color: #3B4455;\n",
              "      --fill-color: #D2E3FC;\n",
              "      --hover-bg-color: #434B5C;\n",
              "      --hover-fill-color: #FFFFFF;\n",
              "      --disabled-bg-color: #3B4455;\n",
              "      --disabled-fill-color: #666;\n",
              "  }\n",
              "\n",
              "  .colab-df-quickchart {\n",
              "    background-color: var(--bg-color);\n",
              "    border: none;\n",
              "    border-radius: 50%;\n",
              "    cursor: pointer;\n",
              "    display: none;\n",
              "    fill: var(--fill-color);\n",
              "    height: 32px;\n",
              "    padding: 0;\n",
              "    width: 32px;\n",
              "  }\n",
              "\n",
              "  .colab-df-quickchart:hover {\n",
              "    background-color: var(--hover-bg-color);\n",
              "    box-shadow: 0 1px 2px rgba(60, 64, 67, 0.3), 0 1px 3px 1px rgba(60, 64, 67, 0.15);\n",
              "    fill: var(--button-hover-fill-color);\n",
              "  }\n",
              "\n",
              "  .colab-df-quickchart-complete:disabled,\n",
              "  .colab-df-quickchart-complete:disabled:hover {\n",
              "    background-color: var(--disabled-bg-color);\n",
              "    fill: var(--disabled-fill-color);\n",
              "    box-shadow: none;\n",
              "  }\n",
              "\n",
              "  .colab-df-spinner {\n",
              "    border: 2px solid var(--fill-color);\n",
              "    border-color: transparent;\n",
              "    border-bottom-color: var(--fill-color);\n",
              "    animation:\n",
              "      spin 1s steps(1) infinite;\n",
              "  }\n",
              "\n",
              "  @keyframes spin {\n",
              "    0% {\n",
              "      border-color: transparent;\n",
              "      border-bottom-color: var(--fill-color);\n",
              "      border-left-color: var(--fill-color);\n",
              "    }\n",
              "    20% {\n",
              "      border-color: transparent;\n",
              "      border-left-color: var(--fill-color);\n",
              "      border-top-color: var(--fill-color);\n",
              "    }\n",
              "    30% {\n",
              "      border-color: transparent;\n",
              "      border-left-color: var(--fill-color);\n",
              "      border-top-color: var(--fill-color);\n",
              "      border-right-color: var(--fill-color);\n",
              "    }\n",
              "    40% {\n",
              "      border-color: transparent;\n",
              "      border-right-color: var(--fill-color);\n",
              "      border-top-color: var(--fill-color);\n",
              "    }\n",
              "    60% {\n",
              "      border-color: transparent;\n",
              "      border-right-color: var(--fill-color);\n",
              "    }\n",
              "    80% {\n",
              "      border-color: transparent;\n",
              "      border-right-color: var(--fill-color);\n",
              "      border-bottom-color: var(--fill-color);\n",
              "    }\n",
              "    90% {\n",
              "      border-color: transparent;\n",
              "      border-bottom-color: var(--fill-color);\n",
              "    }\n",
              "  }\n",
              "</style>\n",
              "\n",
              "  <script>\n",
              "    async function quickchart(key) {\n",
              "      const quickchartButtonEl =\n",
              "        document.querySelector('#' + key + ' button');\n",
              "      quickchartButtonEl.disabled = true;  // To prevent multiple clicks.\n",
              "      quickchartButtonEl.classList.add('colab-df-spinner');\n",
              "      try {\n",
              "        const charts = await google.colab.kernel.invokeFunction(\n",
              "            'suggestCharts', [key], {});\n",
              "      } catch (error) {\n",
              "        console.error('Error during call to suggestCharts:', error);\n",
              "      }\n",
              "      quickchartButtonEl.classList.remove('colab-df-spinner');\n",
              "      quickchartButtonEl.classList.add('colab-df-quickchart-complete');\n",
              "    }\n",
              "    (() => {\n",
              "      let quickchartButtonEl =\n",
              "        document.querySelector('#df-483e09b2-fcc5-4e21-a285-a9f388fa3539 button');\n",
              "      quickchartButtonEl.style.display =\n",
              "        google.colab.kernel.accessAllowed ? 'block' : 'none';\n",
              "    })();\n",
              "  </script>\n",
              "</div>\n",
              "    </div>\n",
              "  </div>\n"
            ]
          },
          "metadata": {},
          "execution_count": 29
        }
      ],
      "source": [
        "chipo = pd.read_csv('https://raw.githubusercontent.com/justmarkham/DAT8/master/data/chipotle.tsv', delimiter='\\t')\n",
        "chipo"
      ]
    },
    {
      "cell_type": "markdown",
      "metadata": {
        "id": "ksyik7O91Qkz"
      },
      "source": [
        "### Step 4. How many products cost more than $10.00?"
      ]
    },
    {
      "cell_type": "code",
      "execution_count": 57,
      "metadata": {
        "colab": {
          "base_uri": "https://localhost:8080/"
        },
        "id": "JEWEtrNa1Qkz",
        "outputId": "baf4fd2c-0abf-45a5-dca4-41e35f70532d"
      },
      "outputs": [
        {
          "output_type": "stream",
          "name": "stdout",
          "text": [
            "                  item_name  calculated_price\n",
            "5              Chicken Bowl             10.98\n",
            "7             Steak Burrito             11.75\n",
            "23          Chicken Burrito             10.98\n",
            "39            Barbacoa Bowl             11.75\n",
            "57           Veggie Burrito             11.25\n",
            "62              Veggie Bowl             11.25\n",
            "79       Chicken Soft Tacos             11.25\n",
            "90               Steak Bowl             11.75\n",
            "93         Carnitas Burrito             11.75\n",
            "97            Carnitas Bowl             11.75\n",
            "130        Barbacoa Burrito             11.75\n",
            "135      Chicken Salad Bowl             11.25\n",
            "168   Barbacoa Crispy Tacos             11.75\n",
            "186       Veggie Salad Bowl             11.25\n",
            "250           Chicken Salad             10.98\n",
            "281        Steak Salad Bowl             11.89\n",
            "365    Chicken Crispy Tacos             11.25\n",
            "738       Veggie Soft Tacos             11.25\n",
            "988     Barbacoa Soft Tacos             11.75\n",
            "1008  Carnitas Crispy Tacos             11.75\n",
            "1132    Carnitas Salad Bowl             11.89\n",
            "1229    Barbacoa Salad Bowl             11.89\n",
            "1353       Steak Soft Tacos             11.75\n",
            "1963    Carnitas Soft Tacos             11.75\n",
            "2231     Steak Crispy Tacos             11.75\n"
          ]
        }
      ],
      "source": [
        "import pandas as pd\n",
        "\n",
        "chipo['calculated_price'] = chipo['item_price'] / chipo['quantity']\n",
        "\n",
        "items_price_above_10 = chipo[chipo['calculated_price'] > 10.00]\n",
        "\n",
        "unique_items_price_above_10 = items_price_above_10[['item_name', 'calculated_price']].drop_duplicates(subset='item_name')\n",
        "\n",
        "print(unique_items_price_above_10)\n",
        "\n"
      ]
    },
    {
      "cell_type": "markdown",
      "metadata": {
        "id": "p0PKoTwQ1Qkz"
      },
      "source": [
        "### Step 5. What is the price of each item?\n",
        "###### print a data frame with only two columns item_name and item_price"
      ]
    },
    {
      "cell_type": "code",
      "execution_count": 58,
      "metadata": {
        "colab": {
          "base_uri": "https://localhost:8080/"
        },
        "id": "phE3518O1Qkz",
        "outputId": "07e9cd96-318f-4a03-8b37-5f72fcc93ae4"
      },
      "outputs": [
        {
          "output_type": "stream",
          "name": "stdout",
          "text": [
            "                                  item_name  calculated_price\n",
            "0              Chips and Fresh Tomato Salsa              2.39\n",
            "1                                      Izze              3.39\n",
            "2                          Nantucket Nectar              3.39\n",
            "3     Chips and Tomatillo-Green Chili Salsa              2.39\n",
            "4                              Chicken Bowl              8.49\n",
            "6                             Side of Chips              1.69\n",
            "7                             Steak Burrito             11.75\n",
            "8                          Steak Soft Tacos              9.25\n",
            "10                      Chips and Guacamole              4.45\n",
            "11                     Chicken Crispy Tacos              8.75\n",
            "12                       Chicken Soft Tacos              8.75\n",
            "16                          Chicken Burrito              8.49\n",
            "18                              Canned Soda              1.09\n",
            "21                         Barbacoa Burrito              8.99\n",
            "27                         Carnitas Burrito              8.99\n",
            "33                            Carnitas Bowl              8.99\n",
            "34                            Bottled Water              1.09\n",
            "38    Chips and Tomatillo Green Chili Salsa              2.95\n",
            "39                            Barbacoa Bowl             11.75\n",
            "40                                    Chips              2.15\n",
            "44                       Chicken Salad Bowl              8.75\n",
            "54                               Steak Bowl              8.99\n",
            "56                      Barbacoa Soft Tacos              9.25\n",
            "57                           Veggie Burrito             11.25\n",
            "62                              Veggie Bowl             11.25\n",
            "92                       Steak Crispy Tacos              9.25\n",
            "111     Chips and Tomatillo Red Chili Salsa              2.95\n",
            "168                   Barbacoa Crispy Tacos             11.75\n",
            "186                       Veggie Salad Bowl             11.25\n",
            "191      Chips and Roasted Chili-Corn Salsa              2.39\n",
            "233      Chips and Roasted Chili Corn Salsa              2.95\n",
            "237                     Carnitas Soft Tacos              9.25\n",
            "250                           Chicken Salad             10.98\n",
            "263                       Canned Soft Drink              1.25\n",
            "281                        Steak Salad Bowl             11.89\n",
            "298                       6 Pack Soft Drink              6.49\n",
            "300     Chips and Tomatillo-Red Chili Salsa              2.39\n",
            "445                                    Bowl              7.40\n",
            "510                                 Burrito              7.40\n",
            "520                            Crispy Tacos              7.40\n",
            "554                   Carnitas Crispy Tacos              9.25\n",
            "664                             Steak Salad              8.99\n",
            "674       Chips and Mild Fresh Tomato Salsa              3.00\n",
            "738                       Veggie Soft Tacos             11.25\n",
            "1132                    Carnitas Salad Bowl             11.89\n",
            "1229                    Barbacoa Salad Bowl             11.89\n",
            "1414                                  Salad              7.40\n",
            "1653                    Veggie Crispy Tacos              8.49\n",
            "1694                           Veggie Salad              8.49\n",
            "3750                         Carnitas Salad              8.99\n"
          ]
        }
      ],
      "source": [
        "import pandas as pd\n",
        "\n",
        "chipo['calculated_price'] = chipo['item_price'] / chipo['quantity']\n",
        "\n",
        "all_unique_items = chipo[['item_name', 'calculated_price']].drop_duplicates(subset='item_name')\n",
        "\n",
        "print(all_unique_items)"
      ]
    },
    {
      "cell_type": "markdown",
      "metadata": {
        "id": "hZaoHcQp1Qkz"
      },
      "source": [
        "### Step 6. Sort by the name of the item"
      ]
    },
    {
      "cell_type": "code",
      "execution_count": 47,
      "metadata": {
        "colab": {
          "base_uri": "https://localhost:8080/"
        },
        "id": "55lg3_bi1Qkz",
        "outputId": "4c21f8c3-194e-4689-9a55-3c2bf8ba7b0d"
      },
      "outputs": [
        {
          "output_type": "stream",
          "name": "stdout",
          "text": [
            "                                  item_name\n",
            "3389                      6 Pack Soft Drink\n",
            "418                           Barbacoa Bowl\n",
            "1202                       Barbacoa Burrito\n",
            "1019                  Barbacoa Crispy Tacos\n",
            "3546                    Barbacoa Salad Bowl\n",
            "3548                    Barbacoa Soft Tacos\n",
            "2441                          Bottled Water\n",
            "673                                    Bowl\n",
            "760                                 Burrito\n",
            "1142                            Canned Soda\n",
            "964                       Canned Soft Drink\n",
            "1359                          Carnitas Bowl\n",
            "1097                       Carnitas Burrito\n",
            "554                   Carnitas Crispy Tacos\n",
            "3750                         Carnitas Salad\n",
            "2610                    Carnitas Salad Bowl\n",
            "2299                    Carnitas Soft Tacos\n",
            "4555                           Chicken Bowl\n",
            "2026                        Chicken Burrito\n",
            "1027                   Chicken Crispy Tacos\n",
            "2968                          Chicken Salad\n",
            "3117                     Chicken Salad Bowl\n",
            "1496                     Chicken Soft Tacos\n",
            "2193                                  Chips\n",
            "3506           Chips and Fresh Tomato Salsa\n",
            "311                     Chips and Guacamole\n",
            "674       Chips and Mild Fresh Tomato Salsa\n",
            "2602     Chips and Roasted Chili Corn Salsa\n",
            "1458     Chips and Roasted Chili-Corn Salsa\n",
            "1593  Chips and Tomatillo Green Chili Salsa\n",
            "1999    Chips and Tomatillo Red Chili Salsa\n",
            "3657  Chips and Tomatillo-Green Chili Salsa\n",
            "2972    Chips and Tomatillo-Red Chili Salsa\n",
            "521                            Crispy Tacos\n",
            "1213                                   Izze\n",
            "2379                       Nantucket Nectar\n",
            "1414                                  Salad\n",
            "1120                          Side of Chips\n",
            "3190                             Steak Bowl\n",
            "4546                          Steak Burrito\n",
            "3503                     Steak Crispy Tacos\n",
            "752                             Steak Salad\n",
            "4391                       Steak Salad Bowl\n",
            "4549                       Steak Soft Tacos\n",
            "2326                            Veggie Bowl\n",
            "1959                         Veggie Burrito\n",
            "1653                    Veggie Crispy Tacos\n",
            "3471                           Veggie Salad\n",
            "4201                      Veggie Salad Bowl\n",
            "738                       Veggie Soft Tacos\n"
          ]
        }
      ],
      "source": [
        "import pandas as pd\n",
        "\n",
        "all_unique_items_1 = chipo.loc[:, ['item_name']]\n",
        "\n",
        "sorted_name = all_unique_items_1.sort_values(by='item_name', ascending=True)\n",
        "\n",
        "distinct_items = sorted_name.drop_duplicates(subset='item_name')\n",
        "\n",
        "print(distinct_items)\n"
      ]
    },
    {
      "cell_type": "markdown",
      "metadata": {
        "id": "3jB9Wilp1Qk0"
      },
      "source": [
        "### Step 7. What was the quantity of the most expensive item ordered?"
      ]
    },
    {
      "cell_type": "code",
      "execution_count": 67,
      "metadata": {
        "id": "3n_u1oxs1Qk0",
        "colab": {
          "base_uri": "https://localhost:8080/"
        },
        "outputId": "b77c0aa7-d919-4376-8642-9e97d9dc7336"
      },
      "outputs": [
        {
          "output_type": "stream",
          "name": "stdout",
          "text": [
            "Total quantity: 30\n"
          ]
        }
      ],
      "source": [
        "import pandas as pd\n",
        "\n",
        "chipo['calculated_price'] = chipo['item_price'] / chipo['quantity']\n",
        "\n",
        "most_expensive_price = chipo['calculated_price'].max()\n",
        "\n",
        "most_expensive_items = chipo[chipo['calculated_price'] == most_expensive_price]\n",
        "\n",
        "total_quantity = most_expensive_items['quantity'].sum()\n",
        "\n",
        "print(f\"Total quantity: {total_quantity}\")\n"
      ]
    },
    {
      "cell_type": "markdown",
      "metadata": {
        "id": "VOUtxkxm1Qk0"
      },
      "source": [
        "### Step 8. How many times was a Veggie Salad Bowl ordered?"
      ]
    },
    {
      "cell_type": "code",
      "execution_count": 68,
      "metadata": {
        "id": "HQDIl0Mw1Qk0",
        "colab": {
          "base_uri": "https://localhost:8080/"
        },
        "outputId": "26455b44-743b-4ff2-f336-d14f95eaa011"
      },
      "outputs": [
        {
          "output_type": "stream",
          "name": "stdout",
          "text": [
            "Number of orders for Veggie Salad Bowl: 18\n"
          ]
        }
      ],
      "source": [
        "import pandas as pd\n",
        "\n",
        "veggie_salad_orders = chipo[chipo['item_name'] == 'Veggie Salad Bowl']\n",
        "\n",
        "number_of_salad_orders = veggie_salad_orders['order_id'].nunique()\n",
        "\n",
        "print(\"Number of orders for Veggie Salad Bowl:\", number_of_salad_orders)"
      ]
    },
    {
      "cell_type": "markdown",
      "metadata": {
        "id": "xQzZtmrK1Qk0"
      },
      "source": [
        "### Step 9. How many times did someone order more than one Canned Soda?"
      ]
    },
    {
      "cell_type": "code",
      "execution_count": 69,
      "metadata": {
        "id": "2sj17FB91Qk0",
        "colab": {
          "base_uri": "https://localhost:8080/"
        },
        "outputId": "2220d8b4-d3f2-45b9-e1c6-8aba3b1981e3"
      },
      "outputs": [
        {
          "output_type": "stream",
          "name": "stdout",
          "text": [
            "Number of orders for Canned Soda with quantity > 1: 18\n"
          ]
        }
      ],
      "source": [
        "import pandas as pd\n",
        "\n",
        "soda_orders = chipo[(chipo['item_name'] == 'Canned Soda') & (chipo['quantity'] > 1)]\n",
        "\n",
        "soda_orders_count = soda_orders['order_id'].nunique()\n",
        "\n",
        "print(\"Number of orders for Canned Soda with quantity > 1:\", soda_orders_count)\n",
        "\n"
      ]
    }
  ],
  "metadata": {
    "kernelspec": {
      "display_name": "Python 2",
      "language": "python",
      "name": "python2"
    },
    "language_info": {
      "codemirror_mode": {
        "name": "ipython",
        "version": 2
      },
      "file_extension": ".py",
      "mimetype": "text/x-python",
      "name": "python",
      "nbconvert_exporter": "python",
      "pygments_lexer": "ipython2",
      "version": "2.7.11"
    },
    "colab": {
      "provenance": [],
      "include_colab_link": true
    }
  },
  "nbformat": 4,
  "nbformat_minor": 0
}
