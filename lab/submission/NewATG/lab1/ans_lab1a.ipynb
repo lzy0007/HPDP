{
  "cells": [
    {
      "cell_type": "markdown",
      "metadata": {
        "id": "view-in-github",
        "colab_type": "text"
      },
      "source": [
        "<a href=\"https://colab.research.google.com/github/drshahizan/HPDP/blob/main/lab/submission/NewATG/Answer_lab1a.ipynb\" target=\"_parent\"><img src=\"https://colab.research.google.com/assets/colab-badge.svg\" alt=\"Open In Colab\"/></a>"
      ]
    },
    {
      "cell_type": "markdown",
      "metadata": {
        "id": "ETcdO77521KY"
      },
      "source": [
        "# Lab 1a - Understanding Your Data"
      ]
    },
    {
      "cell_type": "markdown",
      "metadata": {
        "id": "eWP5TIMv21Kc"
      },
      "source": [
        "Please use the [**Chipotle Sales dataset**](https://raw.githubusercontent.com/drshahizan/dataset/main/pandas/chipotle.tsv) for this exercise."
      ]
    },
    {
      "cell_type": "markdown",
      "metadata": {
        "id": "0sfpr80n21Kc"
      },
      "source": [
        "\n",
        "\n",
        "### Step 1. Import the necessary libraries"
      ]
    },
    {
      "cell_type": "code",
      "execution_count": 1,
      "metadata": {
        "id": "twkSHk_t21Kd"
      },
      "outputs": [],
      "source": [
        "import pandas as pd\n",
        "import numpy as np"
      ]
    },
    {
      "cell_type": "markdown",
      "metadata": {
        "id": "l51cq1U-21Ke"
      },
      "source": [
        "### Step 2. Import the dataset from this [address](https://raw.githubusercontent.com/drshahizan/dataset/main/pandas/chipotle.tsv)."
      ]
    },
    {
      "cell_type": "code",
      "source": [
        "!wget https://raw.githubusercontent.com/drshahizan/dataset/main/pandas/chipotle.tsv"
      ],
      "metadata": {
        "colab": {
          "base_uri": "https://localhost:8080/"
        },
        "id": "jlpSk9ol3jlf",
        "outputId": "0ac42e80-33ad-48e4-b8e3-74e038e74469"
      },
      "execution_count": 2,
      "outputs": [
        {
          "output_type": "stream",
          "name": "stdout",
          "text": [
            "--2023-10-30 11:54:38--  https://raw.githubusercontent.com/drshahizan/dataset/main/pandas/chipotle.tsv\n",
            "Resolving raw.githubusercontent.com (raw.githubusercontent.com)... 185.199.108.133, 185.199.109.133, 185.199.110.133, ...\n",
            "Connecting to raw.githubusercontent.com (raw.githubusercontent.com)|185.199.108.133|:443... connected.\n",
            "HTTP request sent, awaiting response... 200 OK\n",
            "Length: 364975 (356K) [text/plain]\n",
            "Saving to: ‘chipotle.tsv’\n",
            "\n",
            "chipotle.tsv        100%[===================>] 356.42K  --.-KB/s    in 0.05s   \n",
            "\n",
            "2023-10-30 11:54:38 (7.18 MB/s) - ‘chipotle.tsv’ saved [364975/364975]\n",
            "\n"
          ]
        }
      ]
    },
    {
      "cell_type": "markdown",
      "metadata": {
        "id": "LmXHaH-t21Ke"
      },
      "source": [
        "### Step 3. Assign it to a variable called chipo."
      ]
    },
    {
      "cell_type": "code",
      "execution_count": 3,
      "metadata": {
        "id": "PEltGN0K21Kf"
      },
      "outputs": [],
      "source": [
        "chipo = pd.read_table('chipotle.tsv')"
      ]
    },
    {
      "cell_type": "markdown",
      "metadata": {
        "id": "2g-FsF4F21Kf"
      },
      "source": [
        "### Step 4. See the first 10 entries"
      ]
    },
    {
      "cell_type": "code",
      "execution_count": 4,
      "metadata": {
        "scrolled": false,
        "id": "kQUZMo6Y21Kf",
        "colab": {
          "base_uri": "https://localhost:8080/"
        },
        "outputId": "19502074-39e4-41cf-befc-c544ee351246"
      },
      "outputs": [
        {
          "output_type": "stream",
          "name": "stdout",
          "text": [
            "   order_id  quantity                              item_name  \\\n",
            "0         1         1           Chips and Fresh Tomato Salsa   \n",
            "1         1         1                                   Izze   \n",
            "2         1         1                       Nantucket Nectar   \n",
            "3         1         1  Chips and Tomatillo-Green Chili Salsa   \n",
            "4         2         2                           Chicken Bowl   \n",
            "5         3         1                           Chicken Bowl   \n",
            "6         3         1                          Side of Chips   \n",
            "7         4         1                          Steak Burrito   \n",
            "8         4         1                       Steak Soft Tacos   \n",
            "9         5         1                          Steak Burrito   \n",
            "\n",
            "                                  choice_description item_price  \n",
            "0                                                NaN     $2.39   \n",
            "1                                       [Clementine]     $3.39   \n",
            "2                                            [Apple]     $3.39   \n",
            "3                                                NaN     $2.39   \n",
            "4  [Tomatillo-Red Chili Salsa (Hot), [Black Beans...    $16.98   \n",
            "5  [Fresh Tomato Salsa (Mild), [Rice, Cheese, Sou...    $10.98   \n",
            "6                                                NaN     $1.69   \n",
            "7  [Tomatillo Red Chili Salsa, [Fajita Vegetables...    $11.75   \n",
            "8  [Tomatillo Green Chili Salsa, [Pinto Beans, Ch...     $9.25   \n",
            "9  [Fresh Tomato Salsa, [Rice, Black Beans, Pinto...     $9.25   \n"
          ]
        }
      ],
      "source": [
        "first_10_entries = chipo.head(10)\n",
        "print(first_10_entries)"
      ]
    },
    {
      "cell_type": "markdown",
      "metadata": {
        "id": "BWpDTARp21Kg"
      },
      "source": [
        "### Step 5. What is the number of observations in the dataset?"
      ]
    },
    {
      "cell_type": "code",
      "execution_count": 5,
      "metadata": {
        "id": "P4eEwnMJ21Kg",
        "colab": {
          "base_uri": "https://localhost:8080/"
        },
        "outputId": "ee999791-09c9-4a10-da90-3ec9e67ebb6c"
      },
      "outputs": [
        {
          "output_type": "stream",
          "name": "stdout",
          "text": [
            "Number of observations: 4622\n"
          ]
        }
      ],
      "source": [
        "# Solution 1\n",
        "num_observations = chipo.shape[0]\n",
        "print(\"Number of observations:\", num_observations)\n"
      ]
    },
    {
      "cell_type": "code",
      "execution_count": 6,
      "metadata": {
        "id": "dTspC6jr21Kh",
        "colab": {
          "base_uri": "https://localhost:8080/"
        },
        "outputId": "dcf33db5-1ba3-4f02-f866-118b79c27d14"
      },
      "outputs": [
        {
          "output_type": "stream",
          "name": "stdout",
          "text": [
            "Number of observations: 4622\n"
          ]
        }
      ],
      "source": [
        "# Solution 2\n",
        "num_observations = len(chipo.index)\n",
        "print(\"Number of observations:\", num_observations)\n"
      ]
    },
    {
      "cell_type": "markdown",
      "metadata": {
        "id": "Rwoh2FyZ21Kh"
      },
      "source": [
        "### Step 6. What is the number of columns in the dataset?"
      ]
    },
    {
      "cell_type": "code",
      "execution_count": 7,
      "metadata": {
        "id": "7k8s1Fkp21Kh",
        "colab": {
          "base_uri": "https://localhost:8080/"
        },
        "outputId": "d8238617-9549-4058-9788-1c1a059c3baf"
      },
      "outputs": [
        {
          "output_type": "stream",
          "name": "stdout",
          "text": [
            "Number of columns: 5\n"
          ]
        }
      ],
      "source": [
        "num_columns = chipo.shape[1]\n",
        "print(\"Number of columns:\", num_columns)"
      ]
    },
    {
      "cell_type": "markdown",
      "metadata": {
        "id": "jq9oOGiL21Ki"
      },
      "source": [
        "### Step 7. Print the name of all the columns."
      ]
    },
    {
      "cell_type": "code",
      "execution_count": 8,
      "metadata": {
        "id": "qbXHiNfx21Ki",
        "colab": {
          "base_uri": "https://localhost:8080/"
        },
        "outputId": "6d2f437d-1bda-44b1-a996-0a96d554ac62"
      },
      "outputs": [
        {
          "output_type": "stream",
          "name": "stdout",
          "text": [
            "Column Names:\n",
            "order_id\n",
            "quantity\n",
            "item_name\n",
            "choice_description\n",
            "item_price\n"
          ]
        }
      ],
      "source": [
        "column_names = chipo.columns\n",
        "print(\"Column Names:\")\n",
        "for column in column_names:\n",
        "  print(column)"
      ]
    },
    {
      "cell_type": "markdown",
      "metadata": {
        "id": "ckNkp6Ws21Ki"
      },
      "source": [
        "### Step 8. How is the dataset indexed?"
      ]
    },
    {
      "cell_type": "code",
      "execution_count": 9,
      "metadata": {
        "id": "nQsx2t1S21Ki",
        "colab": {
          "base_uri": "https://localhost:8080/"
        },
        "outputId": "14dbb065-1499-4459-8bd9-3f01f2be9cd7"
      },
      "outputs": [
        {
          "output_type": "execute_result",
          "data": {
            "text/plain": [
              "RangeIndex(start=0, stop=4622, step=1)"
            ]
          },
          "metadata": {},
          "execution_count": 9
        }
      ],
      "source": [
        "chipo.index"
      ]
    },
    {
      "cell_type": "markdown",
      "metadata": {
        "id": "tqCeDjNJ21Ki"
      },
      "source": [
        "### Step 9. Which was the most-ordered item?"
      ]
    },
    {
      "cell_type": "code",
      "execution_count": 10,
      "metadata": {
        "id": "pgaXF32e21Ki",
        "colab": {
          "base_uri": "https://localhost:8080/"
        },
        "outputId": "610ab58f-c6a1-4318-9a4b-e994d3612674"
      },
      "outputs": [
        {
          "output_type": "execute_result",
          "data": {
            "text/plain": [
              "Chicken Bowl    726\n",
              "Name: item_name, dtype: int64"
            ]
          },
          "metadata": {},
          "execution_count": 10
        }
      ],
      "source": [
        "chipo.item_name.value_counts().head(1)"
      ]
    },
    {
      "cell_type": "markdown",
      "metadata": {
        "id": "unw9gTvm21Ki"
      },
      "source": [
        "### Step 10. For the most-ordered item, how many items were ordered?"
      ]
    },
    {
      "cell_type": "code",
      "execution_count": 11,
      "metadata": {
        "id": "vXaiQwNx21Ki",
        "colab": {
          "base_uri": "https://localhost:8080/"
        },
        "outputId": "668d23dd-a3d4-465f-d890-ac81dd4265fa"
      },
      "outputs": [
        {
          "output_type": "execute_result",
          "data": {
            "text/plain": [
              "726"
            ]
          },
          "metadata": {},
          "execution_count": 11
        }
      ],
      "source": [
        "chipo.item_name.value_counts().head(1)[0]"
      ]
    },
    {
      "cell_type": "markdown",
      "metadata": {
        "id": "hXsH_Sg-21Kj"
      },
      "source": [
        "### Step 11. What was the most ordered item in the choice_description column?"
      ]
    },
    {
      "cell_type": "code",
      "execution_count": 12,
      "metadata": {
        "id": "rkRwGmnQ21Kj",
        "colab": {
          "base_uri": "https://localhost:8080/"
        },
        "outputId": "27ed1d22-57cf-4a33-e5e1-999713fac2f3"
      },
      "outputs": [
        {
          "output_type": "execute_result",
          "data": {
            "text/plain": [
              "[Diet Coke]    134\n",
              "Name: choice_description, dtype: int64"
            ]
          },
          "metadata": {},
          "execution_count": 12
        }
      ],
      "source": [
        "chipo.choice_description.value_counts().head(1)"
      ]
    },
    {
      "cell_type": "markdown",
      "metadata": {
        "id": "t1Sp24x221Kj"
      },
      "source": [
        "### Step 12. How many items were orderd in total?"
      ]
    },
    {
      "cell_type": "code",
      "execution_count": 13,
      "metadata": {
        "id": "swoeBS4b21Kj",
        "colab": {
          "base_uri": "https://localhost:8080/"
        },
        "outputId": "f4cae20f-a0a9-48bb-cb66-733fe7d84f52"
      },
      "outputs": [
        {
          "output_type": "execute_result",
          "data": {
            "text/plain": [
              "4972"
            ]
          },
          "metadata": {},
          "execution_count": 13
        }
      ],
      "source": [
        "chipo.quantity.sum()"
      ]
    },
    {
      "cell_type": "markdown",
      "metadata": {
        "id": "0a4cL8Tw21Kj"
      },
      "source": [
        "### Step 13. Turn the item price into a float"
      ]
    },
    {
      "cell_type": "markdown",
      "metadata": {
        "id": "D5w-H9lU21Kj"
      },
      "source": [
        "#### Step 13.a. Check the item price type"
      ]
    },
    {
      "cell_type": "code",
      "execution_count": 14,
      "metadata": {
        "id": "FwjJhdr021Kj",
        "colab": {
          "base_uri": "https://localhost:8080/"
        },
        "outputId": "ad17c90f-ba66-4b3e-9d6f-0dcbf392fae0"
      },
      "outputs": [
        {
          "output_type": "execute_result",
          "data": {
            "text/plain": [
              "dtype('O')"
            ]
          },
          "metadata": {},
          "execution_count": 14
        }
      ],
      "source": [
        "chipo.item_price.dtype"
      ]
    },
    {
      "cell_type": "markdown",
      "metadata": {
        "id": "CPN22nZ921Kj"
      },
      "source": [
        "#### Step 13.b. Create a lambda function and change the type of item price"
      ]
    },
    {
      "cell_type": "code",
      "execution_count": 15,
      "metadata": {
        "collapsed": true,
        "id": "BupPZ1QE21Kj"
      },
      "outputs": [],
      "source": [
        "convert_to_float = lambda x: float(x.replace('$', ''))\n",
        "\n",
        "chipo['item_price'] = chipo['item_price'].apply(convert_to_float)\n"
      ]
    },
    {
      "cell_type": "markdown",
      "metadata": {
        "id": "63zpru5X21Kj"
      },
      "source": [
        "#### Step 13.c. Check the item price type"
      ]
    },
    {
      "cell_type": "code",
      "execution_count": 16,
      "metadata": {
        "id": "8tcYrO3E21Kk",
        "colab": {
          "base_uri": "https://localhost:8080/"
        },
        "outputId": "246d3302-3534-417e-8c49-f255d832b04f"
      },
      "outputs": [
        {
          "output_type": "execute_result",
          "data": {
            "text/plain": [
              "dtype('float64')"
            ]
          },
          "metadata": {},
          "execution_count": 16
        }
      ],
      "source": [
        "chipo.item_price.dtype"
      ]
    },
    {
      "cell_type": "markdown",
      "metadata": {
        "id": "XXF1iGfk21Kk"
      },
      "source": [
        "### Step 14. How much was the revenue for the period in the dataset?"
      ]
    },
    {
      "cell_type": "code",
      "execution_count": 17,
      "metadata": {
        "id": "jaccs_eK21Kk",
        "colab": {
          "base_uri": "https://localhost:8080/"
        },
        "outputId": "df94efe9-f36d-44dc-d670-4ed414d92cf5"
      },
      "outputs": [
        {
          "output_type": "stream",
          "name": "stdout",
          "text": [
            "Total Revenue for the Period: $ 39237.02\n"
          ]
        }
      ],
      "source": [
        "chipo['revenue'] = chipo['quantity'] * chipo['item_price']\n",
        "total_revenue = chipo['revenue'].sum()\n",
        "\n",
        "print(\"Total Revenue for the Period: $\", total_revenue)\n"
      ]
    },
    {
      "cell_type": "markdown",
      "metadata": {
        "id": "P6siew3m21Kk"
      },
      "source": [
        "### Step 15. How many orders were made in the period?"
      ]
    },
    {
      "cell_type": "code",
      "execution_count": 18,
      "metadata": {
        "id": "2G12IY6021Kk",
        "colab": {
          "base_uri": "https://localhost:8080/"
        },
        "outputId": "ee94dd9e-9de6-4f19-e362-193b3bac8c68"
      },
      "outputs": [
        {
          "output_type": "stream",
          "name": "stdout",
          "text": [
            "Total Orders made in the period: 1834\n",
            "Total Orders made in the period: 1834\n"
          ]
        }
      ],
      "source": [
        "print(\"Total Orders made in the period:\", chipo.order_id.value_counts().count())\n"
      ]
    },
    {
      "cell_type": "markdown",
      "metadata": {
        "id": "JXuqN5j621Kk"
      },
      "source": [
        "### Step 16. What is the average revenue amount per order?"
      ]
    },
    {
      "cell_type": "code",
      "execution_count": 20,
      "metadata": {
        "id": "dhwWMcMj21Kk",
        "colab": {
          "base_uri": "https://localhost:8080/"
        },
        "outputId": "728aff0a-dc44-4f9b-d4d7-25d6baedfb88"
      },
      "outputs": [
        {
          "output_type": "stream",
          "name": "stdout",
          "text": [
            "Average Revenue Per Order: 21.39423118865867\n"
          ]
        }
      ],
      "source": [
        "# Solution 1\n",
        "order_revenue = chipo.groupby('order_id')['revenue'].sum()\n",
        "\n",
        "average_revenue_per_order = order_revenue.mean()\n",
        "\n",
        "print(\"Average Revenue Per Order:\", average_revenue_per_order)\n"
      ]
    },
    {
      "cell_type": "code",
      "execution_count": 21,
      "metadata": {
        "id": "MwwIB_iH21Ko",
        "colab": {
          "base_uri": "https://localhost:8080/"
        },
        "outputId": "347076c7-321d-4b9b-f5db-d202c792a3f8"
      },
      "outputs": [
        {
          "output_type": "stream",
          "name": "stdout",
          "text": [
            "Average Revenue Per Order: 21.39423118865867\n"
          ]
        }
      ],
      "source": [
        "# Solution 2\n",
        "avg_per_order = (chipo['quantity'] * chipo['item_price']).sum() / chipo['order_id'].nunique()\n",
        "print(\"Average Revenue Per Order:\", avg_per_order)\n"
      ]
    },
    {
      "cell_type": "markdown",
      "metadata": {
        "id": "35ffN4ml21Ko"
      },
      "source": [
        "### Step 17. How many different items are sold?"
      ]
    },
    {
      "cell_type": "code",
      "execution_count": 22,
      "metadata": {
        "id": "QpqFEA8A21Ko",
        "colab": {
          "base_uri": "https://localhost:8080/"
        },
        "outputId": "8ec1318c-9528-4a17-cf13-904747f9ee7f"
      },
      "outputs": [
        {
          "output_type": "execute_result",
          "data": {
            "text/plain": [
              "50"
            ]
          },
          "metadata": {},
          "execution_count": 22
        }
      ],
      "source": [
        "chipo.item_name.value_counts().count()"
      ]
    }
  ],
  "metadata": {
    "anaconda-cloud": {},
    "kernelspec": {
      "display_name": "Python [default]",
      "language": "python",
      "name": "python2"
    },
    "language_info": {
      "codemirror_mode": {
        "name": "ipython",
        "version": 2
      },
      "file_extension": ".py",
      "mimetype": "text/x-python",
      "name": "python",
      "nbconvert_exporter": "python",
      "pygments_lexer": "ipython2",
      "version": "2.7.12"
    },
    "colab": {
      "provenance": [],
      "include_colab_link": true
    }
  },
  "nbformat": 4,
  "nbformat_minor": 0
}
