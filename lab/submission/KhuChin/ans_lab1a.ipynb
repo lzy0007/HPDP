{
  "nbformat": 4,
  "nbformat_minor": 0,
  "metadata": {
    "colab": {
      "provenance": [],
      "mount_file_id": "1a4S4XCB-ySIbJqUUGlLTaHRRQFO1SDtP",
      "authorship_tag": "ABX9TyMDSGNZMc/RtpQGF19Hy7Ck",
      "include_colab_link": true
    },
    "kernelspec": {
      "name": "python3",
      "display_name": "Python 3"
    },
    "language_info": {
      "name": "python"
    }
  },
  "cells": [
    {
      "cell_type": "markdown",
      "metadata": {
        "id": "view-in-github",
        "colab_type": "text"
      },
      "source": [
        "<a href=\"https://colab.research.google.com/github/drshahizan/HPDP/blob/main/lab/submission/KhuChin/ans_lab1a.ipynb\" target=\"_parent\"><img src=\"https://colab.research.google.com/assets/colab-badge.svg\" alt=\"Open In Colab\"/></a>"
      ]
    },
    {
      "cell_type": "markdown",
      "source": [
        " # Lab 1a - Understanding Your Data"
      ],
      "metadata": {
        "id": "wnMoPD045kgH"
      }
    },
    {
      "cell_type": "markdown",
      "source": [
        "Please use the [**Chipotle Sales dataset**](https://raw.githubusercontent.com/drshahizan/dataset/main/pandas/chipotle.tsv) for this exercise."
      ],
      "metadata": {
        "id": "u33YaaZz5tqw"
      }
    },
    {
      "cell_type": "markdown",
      "source": [
        "### Step 1. Import the necessary libraries"
      ],
      "metadata": {
        "id": "0nUu2pYX6RI1"
      }
    },
    {
      "cell_type": "code",
      "source": [
        "import pandas as pd\n",
        "\n",
        "from google.colab import drive\n",
        "drive.mount('/content/drive')"
      ],
      "metadata": {
        "id": "S8ccK1xT6VoT",
        "colab": {
          "base_uri": "https://localhost:8080/"
        },
        "outputId": "f0f3b46e-6b1e-4753-aba7-d56c6d8a316a"
      },
      "execution_count": 1,
      "outputs": [
        {
          "output_type": "stream",
          "name": "stdout",
          "text": [
            "Drive already mounted at /content/drive; to attempt to forcibly remount, call drive.mount(\"/content/drive\", force_remount=True).\n"
          ]
        }
      ]
    },
    {
      "cell_type": "markdown",
      "source": [
        "### Step 2. Import the dataset from this [address](https://raw.githubusercontent.com/drshahizan/dataset/main/pandas/chipotle.tsv)."
      ],
      "metadata": {
        "id": "KIg0xq2r6V3C"
      }
    },
    {
      "cell_type": "code",
      "source": [
        "file_path = \"/content/drive/MyDrive/Colab Notebooks/Dataset/chipotle.tsv\""
      ],
      "metadata": {
        "id": "9q0qS-Qm6fwj"
      },
      "execution_count": 2,
      "outputs": []
    },
    {
      "cell_type": "markdown",
      "source": [
        "### Step 3. Assign it to a variable called chipo."
      ],
      "metadata": {
        "id": "yccKHS486hra"
      }
    },
    {
      "cell_type": "code",
      "source": [
        "chipo = pd.read_csv(file_path, sep='\\t')"
      ],
      "metadata": {
        "id": "1wDN0gff6uY3"
      },
      "execution_count": 3,
      "outputs": []
    },
    {
      "cell_type": "markdown",
      "source": [
        "### Step 4. See the first 10 entries"
      ],
      "metadata": {
        "id": "pCodeMWy6u22"
      }
    },
    {
      "cell_type": "code",
      "source": [
        "chipo.head(n=10)"
      ],
      "metadata": {
        "id": "DUzz-VGS6ySM",
        "colab": {
          "base_uri": "https://localhost:8080/",
          "height": 363
        },
        "outputId": "531b5cf7-3d42-4080-f2b5-88d6c09d92ab"
      },
      "execution_count": 4,
      "outputs": [
        {
          "output_type": "execute_result",
          "data": {
            "text/plain": [
              "   order_id  quantity                              item_name  \\\n",
              "0         1         1           Chips and Fresh Tomato Salsa   \n",
              "1         1         1                                   Izze   \n",
              "2         1         1                       Nantucket Nectar   \n",
              "3         1         1  Chips and Tomatillo-Green Chili Salsa   \n",
              "4         2         2                           Chicken Bowl   \n",
              "5         3         1                           Chicken Bowl   \n",
              "6         3         1                          Side of Chips   \n",
              "7         4         1                          Steak Burrito   \n",
              "8         4         1                       Steak Soft Tacos   \n",
              "9         5         1                          Steak Burrito   \n",
              "\n",
              "                                  choice_description item_price  \n",
              "0                                                NaN     $2.39   \n",
              "1                                       [Clementine]     $3.39   \n",
              "2                                            [Apple]     $3.39   \n",
              "3                                                NaN     $2.39   \n",
              "4  [Tomatillo-Red Chili Salsa (Hot), [Black Beans...    $16.98   \n",
              "5  [Fresh Tomato Salsa (Mild), [Rice, Cheese, Sou...    $10.98   \n",
              "6                                                NaN     $1.69   \n",
              "7  [Tomatillo Red Chili Salsa, [Fajita Vegetables...    $11.75   \n",
              "8  [Tomatillo Green Chili Salsa, [Pinto Beans, Ch...     $9.25   \n",
              "9  [Fresh Tomato Salsa, [Rice, Black Beans, Pinto...     $9.25   "
            ],
            "text/html": [
              "\n",
              "  <div id=\"df-a58f0d5d-30a7-4028-8fa4-b77c35153bd8\" class=\"colab-df-container\">\n",
              "    <div>\n",
              "<style scoped>\n",
              "    .dataframe tbody tr th:only-of-type {\n",
              "        vertical-align: middle;\n",
              "    }\n",
              "\n",
              "    .dataframe tbody tr th {\n",
              "        vertical-align: top;\n",
              "    }\n",
              "\n",
              "    .dataframe thead th {\n",
              "        text-align: right;\n",
              "    }\n",
              "</style>\n",
              "<table border=\"1\" class=\"dataframe\">\n",
              "  <thead>\n",
              "    <tr style=\"text-align: right;\">\n",
              "      <th></th>\n",
              "      <th>order_id</th>\n",
              "      <th>quantity</th>\n",
              "      <th>item_name</th>\n",
              "      <th>choice_description</th>\n",
              "      <th>item_price</th>\n",
              "    </tr>\n",
              "  </thead>\n",
              "  <tbody>\n",
              "    <tr>\n",
              "      <th>0</th>\n",
              "      <td>1</td>\n",
              "      <td>1</td>\n",
              "      <td>Chips and Fresh Tomato Salsa</td>\n",
              "      <td>NaN</td>\n",
              "      <td>$2.39</td>\n",
              "    </tr>\n",
              "    <tr>\n",
              "      <th>1</th>\n",
              "      <td>1</td>\n",
              "      <td>1</td>\n",
              "      <td>Izze</td>\n",
              "      <td>[Clementine]</td>\n",
              "      <td>$3.39</td>\n",
              "    </tr>\n",
              "    <tr>\n",
              "      <th>2</th>\n",
              "      <td>1</td>\n",
              "      <td>1</td>\n",
              "      <td>Nantucket Nectar</td>\n",
              "      <td>[Apple]</td>\n",
              "      <td>$3.39</td>\n",
              "    </tr>\n",
              "    <tr>\n",
              "      <th>3</th>\n",
              "      <td>1</td>\n",
              "      <td>1</td>\n",
              "      <td>Chips and Tomatillo-Green Chili Salsa</td>\n",
              "      <td>NaN</td>\n",
              "      <td>$2.39</td>\n",
              "    </tr>\n",
              "    <tr>\n",
              "      <th>4</th>\n",
              "      <td>2</td>\n",
              "      <td>2</td>\n",
              "      <td>Chicken Bowl</td>\n",
              "      <td>[Tomatillo-Red Chili Salsa (Hot), [Black Beans...</td>\n",
              "      <td>$16.98</td>\n",
              "    </tr>\n",
              "    <tr>\n",
              "      <th>5</th>\n",
              "      <td>3</td>\n",
              "      <td>1</td>\n",
              "      <td>Chicken Bowl</td>\n",
              "      <td>[Fresh Tomato Salsa (Mild), [Rice, Cheese, Sou...</td>\n",
              "      <td>$10.98</td>\n",
              "    </tr>\n",
              "    <tr>\n",
              "      <th>6</th>\n",
              "      <td>3</td>\n",
              "      <td>1</td>\n",
              "      <td>Side of Chips</td>\n",
              "      <td>NaN</td>\n",
              "      <td>$1.69</td>\n",
              "    </tr>\n",
              "    <tr>\n",
              "      <th>7</th>\n",
              "      <td>4</td>\n",
              "      <td>1</td>\n",
              "      <td>Steak Burrito</td>\n",
              "      <td>[Tomatillo Red Chili Salsa, [Fajita Vegetables...</td>\n",
              "      <td>$11.75</td>\n",
              "    </tr>\n",
              "    <tr>\n",
              "      <th>8</th>\n",
              "      <td>4</td>\n",
              "      <td>1</td>\n",
              "      <td>Steak Soft Tacos</td>\n",
              "      <td>[Tomatillo Green Chili Salsa, [Pinto Beans, Ch...</td>\n",
              "      <td>$9.25</td>\n",
              "    </tr>\n",
              "    <tr>\n",
              "      <th>9</th>\n",
              "      <td>5</td>\n",
              "      <td>1</td>\n",
              "      <td>Steak Burrito</td>\n",
              "      <td>[Fresh Tomato Salsa, [Rice, Black Beans, Pinto...</td>\n",
              "      <td>$9.25</td>\n",
              "    </tr>\n",
              "  </tbody>\n",
              "</table>\n",
              "</div>\n",
              "    <div class=\"colab-df-buttons\">\n",
              "\n",
              "  <div class=\"colab-df-container\">\n",
              "    <button class=\"colab-df-convert\" onclick=\"convertToInteractive('df-a58f0d5d-30a7-4028-8fa4-b77c35153bd8')\"\n",
              "            title=\"Convert this dataframe to an interactive table.\"\n",
              "            style=\"display:none;\">\n",
              "\n",
              "  <svg xmlns=\"http://www.w3.org/2000/svg\" height=\"24px\" viewBox=\"0 -960 960 960\">\n",
              "    <path d=\"M120-120v-720h720v720H120Zm60-500h600v-160H180v160Zm220 220h160v-160H400v160Zm0 220h160v-160H400v160ZM180-400h160v-160H180v160Zm440 0h160v-160H620v160ZM180-180h160v-160H180v160Zm440 0h160v-160H620v160Z\"/>\n",
              "  </svg>\n",
              "    </button>\n",
              "\n",
              "  <style>\n",
              "    .colab-df-container {\n",
              "      display:flex;\n",
              "      gap: 12px;\n",
              "    }\n",
              "\n",
              "    .colab-df-convert {\n",
              "      background-color: #E8F0FE;\n",
              "      border: none;\n",
              "      border-radius: 50%;\n",
              "      cursor: pointer;\n",
              "      display: none;\n",
              "      fill: #1967D2;\n",
              "      height: 32px;\n",
              "      padding: 0 0 0 0;\n",
              "      width: 32px;\n",
              "    }\n",
              "\n",
              "    .colab-df-convert:hover {\n",
              "      background-color: #E2EBFA;\n",
              "      box-shadow: 0px 1px 2px rgba(60, 64, 67, 0.3), 0px 1px 3px 1px rgba(60, 64, 67, 0.15);\n",
              "      fill: #174EA6;\n",
              "    }\n",
              "\n",
              "    .colab-df-buttons div {\n",
              "      margin-bottom: 4px;\n",
              "    }\n",
              "\n",
              "    [theme=dark] .colab-df-convert {\n",
              "      background-color: #3B4455;\n",
              "      fill: #D2E3FC;\n",
              "    }\n",
              "\n",
              "    [theme=dark] .colab-df-convert:hover {\n",
              "      background-color: #434B5C;\n",
              "      box-shadow: 0px 1px 3px 1px rgba(0, 0, 0, 0.15);\n",
              "      filter: drop-shadow(0px 1px 2px rgba(0, 0, 0, 0.3));\n",
              "      fill: #FFFFFF;\n",
              "    }\n",
              "  </style>\n",
              "\n",
              "    <script>\n",
              "      const buttonEl =\n",
              "        document.querySelector('#df-a58f0d5d-30a7-4028-8fa4-b77c35153bd8 button.colab-df-convert');\n",
              "      buttonEl.style.display =\n",
              "        google.colab.kernel.accessAllowed ? 'block' : 'none';\n",
              "\n",
              "      async function convertToInteractive(key) {\n",
              "        const element = document.querySelector('#df-a58f0d5d-30a7-4028-8fa4-b77c35153bd8');\n",
              "        const dataTable =\n",
              "          await google.colab.kernel.invokeFunction('convertToInteractive',\n",
              "                                                    [key], {});\n",
              "        if (!dataTable) return;\n",
              "\n",
              "        const docLinkHtml = 'Like what you see? Visit the ' +\n",
              "          '<a target=\"_blank\" href=https://colab.research.google.com/notebooks/data_table.ipynb>data table notebook</a>'\n",
              "          + ' to learn more about interactive tables.';\n",
              "        element.innerHTML = '';\n",
              "        dataTable['output_type'] = 'display_data';\n",
              "        await google.colab.output.renderOutput(dataTable, element);\n",
              "        const docLink = document.createElement('div');\n",
              "        docLink.innerHTML = docLinkHtml;\n",
              "        element.appendChild(docLink);\n",
              "      }\n",
              "    </script>\n",
              "  </div>\n",
              "\n",
              "\n",
              "<div id=\"df-d6ada665-69f6-439d-8bc7-a4f4cae47c8e\">\n",
              "  <button class=\"colab-df-quickchart\" onclick=\"quickchart('df-d6ada665-69f6-439d-8bc7-a4f4cae47c8e')\"\n",
              "            title=\"Suggest charts.\"\n",
              "            style=\"display:none;\">\n",
              "\n",
              "<svg xmlns=\"http://www.w3.org/2000/svg\" height=\"24px\"viewBox=\"0 0 24 24\"\n",
              "     width=\"24px\">\n",
              "    <g>\n",
              "        <path d=\"M19 3H5c-1.1 0-2 .9-2 2v14c0 1.1.9 2 2 2h14c1.1 0 2-.9 2-2V5c0-1.1-.9-2-2-2zM9 17H7v-7h2v7zm4 0h-2V7h2v10zm4 0h-2v-4h2v4z\"/>\n",
              "    </g>\n",
              "</svg>\n",
              "  </button>\n",
              "\n",
              "<style>\n",
              "  .colab-df-quickchart {\n",
              "      --bg-color: #E8F0FE;\n",
              "      --fill-color: #1967D2;\n",
              "      --hover-bg-color: #E2EBFA;\n",
              "      --hover-fill-color: #174EA6;\n",
              "      --disabled-fill-color: #AAA;\n",
              "      --disabled-bg-color: #DDD;\n",
              "  }\n",
              "\n",
              "  [theme=dark] .colab-df-quickchart {\n",
              "      --bg-color: #3B4455;\n",
              "      --fill-color: #D2E3FC;\n",
              "      --hover-bg-color: #434B5C;\n",
              "      --hover-fill-color: #FFFFFF;\n",
              "      --disabled-bg-color: #3B4455;\n",
              "      --disabled-fill-color: #666;\n",
              "  }\n",
              "\n",
              "  .colab-df-quickchart {\n",
              "    background-color: var(--bg-color);\n",
              "    border: none;\n",
              "    border-radius: 50%;\n",
              "    cursor: pointer;\n",
              "    display: none;\n",
              "    fill: var(--fill-color);\n",
              "    height: 32px;\n",
              "    padding: 0;\n",
              "    width: 32px;\n",
              "  }\n",
              "\n",
              "  .colab-df-quickchart:hover {\n",
              "    background-color: var(--hover-bg-color);\n",
              "    box-shadow: 0 1px 2px rgba(60, 64, 67, 0.3), 0 1px 3px 1px rgba(60, 64, 67, 0.15);\n",
              "    fill: var(--button-hover-fill-color);\n",
              "  }\n",
              "\n",
              "  .colab-df-quickchart-complete:disabled,\n",
              "  .colab-df-quickchart-complete:disabled:hover {\n",
              "    background-color: var(--disabled-bg-color);\n",
              "    fill: var(--disabled-fill-color);\n",
              "    box-shadow: none;\n",
              "  }\n",
              "\n",
              "  .colab-df-spinner {\n",
              "    border: 2px solid var(--fill-color);\n",
              "    border-color: transparent;\n",
              "    border-bottom-color: var(--fill-color);\n",
              "    animation:\n",
              "      spin 1s steps(1) infinite;\n",
              "  }\n",
              "\n",
              "  @keyframes spin {\n",
              "    0% {\n",
              "      border-color: transparent;\n",
              "      border-bottom-color: var(--fill-color);\n",
              "      border-left-color: var(--fill-color);\n",
              "    }\n",
              "    20% {\n",
              "      border-color: transparent;\n",
              "      border-left-color: var(--fill-color);\n",
              "      border-top-color: var(--fill-color);\n",
              "    }\n",
              "    30% {\n",
              "      border-color: transparent;\n",
              "      border-left-color: var(--fill-color);\n",
              "      border-top-color: var(--fill-color);\n",
              "      border-right-color: var(--fill-color);\n",
              "    }\n",
              "    40% {\n",
              "      border-color: transparent;\n",
              "      border-right-color: var(--fill-color);\n",
              "      border-top-color: var(--fill-color);\n",
              "    }\n",
              "    60% {\n",
              "      border-color: transparent;\n",
              "      border-right-color: var(--fill-color);\n",
              "    }\n",
              "    80% {\n",
              "      border-color: transparent;\n",
              "      border-right-color: var(--fill-color);\n",
              "      border-bottom-color: var(--fill-color);\n",
              "    }\n",
              "    90% {\n",
              "      border-color: transparent;\n",
              "      border-bottom-color: var(--fill-color);\n",
              "    }\n",
              "  }\n",
              "</style>\n",
              "\n",
              "  <script>\n",
              "    async function quickchart(key) {\n",
              "      const quickchartButtonEl =\n",
              "        document.querySelector('#' + key + ' button');\n",
              "      quickchartButtonEl.disabled = true;  // To prevent multiple clicks.\n",
              "      quickchartButtonEl.classList.add('colab-df-spinner');\n",
              "      try {\n",
              "        const charts = await google.colab.kernel.invokeFunction(\n",
              "            'suggestCharts', [key], {});\n",
              "      } catch (error) {\n",
              "        console.error('Error during call to suggestCharts:', error);\n",
              "      }\n",
              "      quickchartButtonEl.classList.remove('colab-df-spinner');\n",
              "      quickchartButtonEl.classList.add('colab-df-quickchart-complete');\n",
              "    }\n",
              "    (() => {\n",
              "      let quickchartButtonEl =\n",
              "        document.querySelector('#df-d6ada665-69f6-439d-8bc7-a4f4cae47c8e button');\n",
              "      quickchartButtonEl.style.display =\n",
              "        google.colab.kernel.accessAllowed ? 'block' : 'none';\n",
              "    })();\n",
              "  </script>\n",
              "</div>\n",
              "    </div>\n",
              "  </div>\n"
            ]
          },
          "metadata": {},
          "execution_count": 4
        }
      ]
    },
    {
      "cell_type": "markdown",
      "source": [
        "### Step 5. What is the number of observations in the dataset?\n"
      ],
      "metadata": {
        "id": "dD_bj8BmdMLX"
      }
    },
    {
      "cell_type": "code",
      "source": [
        "# Solution 1 - using len(df.axes[]) function\n",
        "\n",
        "# computing number of rows\n",
        "rows = len(chipo.axes[0])\n",
        "\n",
        "# computing number of columns\n",
        "cols = len(chipo.axes[1])\n",
        "\n",
        "print(\"Number of Rows: \", rows)\n",
        "print(\"Number of Columns: \", cols)"
      ],
      "metadata": {
        "id": "i-UrliPfdU6E",
        "colab": {
          "base_uri": "https://localhost:8080/"
        },
        "outputId": "840ccee2-4348-41b0-998f-6e4e828151df"
      },
      "execution_count": 5,
      "outputs": [
        {
          "output_type": "stream",
          "name": "stdout",
          "text": [
            "Number of Rows:  4622\n",
            "Number of Columns:  5\n"
          ]
        }
      ]
    },
    {
      "cell_type": "code",
      "source": [
        "# Solution 2 - using Info() function\n",
        "\n",
        "print(chipo.info())"
      ],
      "metadata": {
        "id": "XHrCMahsdZio",
        "colab": {
          "base_uri": "https://localhost:8080/"
        },
        "outputId": "50db4ded-66fd-4f26-877c-87e9e7bc82c0"
      },
      "execution_count": 6,
      "outputs": [
        {
          "output_type": "stream",
          "name": "stdout",
          "text": [
            "<class 'pandas.core.frame.DataFrame'>\n",
            "RangeIndex: 4622 entries, 0 to 4621\n",
            "Data columns (total 5 columns):\n",
            " #   Column              Non-Null Count  Dtype \n",
            "---  ------              --------------  ----- \n",
            " 0   order_id            4622 non-null   int64 \n",
            " 1   quantity            4622 non-null   int64 \n",
            " 2   item_name           4622 non-null   object\n",
            " 3   choice_description  3376 non-null   object\n",
            " 4   item_price          4622 non-null   object\n",
            "dtypes: int64(2), object(3)\n",
            "memory usage: 180.7+ KB\n",
            "None\n"
          ]
        }
      ]
    },
    {
      "cell_type": "markdown",
      "source": [
        "### Step 6. What is the number of columns in the dataset?"
      ],
      "metadata": {
        "id": "_4n6cvG_dbrG"
      }
    },
    {
      "cell_type": "code",
      "source": [
        "# computing number of columns\n",
        "cols = len(chipo.axes[1])\n",
        "\n",
        "print(\"Number of Columns: \", cols)"
      ],
      "metadata": {
        "id": "IQubmszbdf0z",
        "colab": {
          "base_uri": "https://localhost:8080/"
        },
        "outputId": "3d22d82d-7e8a-4ec1-9dc9-9308a6032378"
      },
      "execution_count": 7,
      "outputs": [
        {
          "output_type": "stream",
          "name": "stdout",
          "text": [
            "Number of Columns:  5\n"
          ]
        }
      ]
    },
    {
      "cell_type": "markdown",
      "source": [
        "### Step 7. Print the name of all the columns."
      ],
      "metadata": {
        "id": "xdY_IdTFdjP-"
      }
    },
    {
      "cell_type": "code",
      "source": [
        "# Get the list of all column names from headers\n",
        "column_headers = list(chipo.columns.values)\n",
        "print(\"The Column Header :\", column_headers)"
      ],
      "metadata": {
        "id": "XFdqCXuJdnMe",
        "colab": {
          "base_uri": "https://localhost:8080/"
        },
        "outputId": "b385b155-578e-4771-c4f5-53347b7ffde8"
      },
      "execution_count": 8,
      "outputs": [
        {
          "output_type": "stream",
          "name": "stdout",
          "text": [
            "The Column Header : ['order_id', 'quantity', 'item_name', 'choice_description', 'item_price']\n"
          ]
        }
      ]
    },
    {
      "cell_type": "markdown",
      "source": [
        "### Step 8. How is the dataset indexed?"
      ],
      "metadata": {
        "id": "mUUFmcKldnr1"
      }
    },
    {
      "cell_type": "code",
      "source": [
        "# We can use loc[] function method to return specified rows and/or columns that we want\n",
        "\n",
        "# example\n",
        "\n",
        "#selects and prints all the data in the 'col 3' column of the chipo DataFrame.\n",
        "first_loc = chipo.loc[:,'item_name']\n",
        "print(f'First .loc:\\n{first_loc}\\n')"
      ],
      "metadata": {
        "id": "oDOkDSsSdprg",
        "colab": {
          "base_uri": "https://localhost:8080/"
        },
        "outputId": "5d9b6827-50c6-4349-f302-4cda518f1c5a"
      },
      "execution_count": 9,
      "outputs": [
        {
          "output_type": "stream",
          "name": "stdout",
          "text": [
            "First .loc:\n",
            "0                Chips and Fresh Tomato Salsa\n",
            "1                                        Izze\n",
            "2                            Nantucket Nectar\n",
            "3       Chips and Tomatillo-Green Chili Salsa\n",
            "4                                Chicken Bowl\n",
            "                        ...                  \n",
            "4617                            Steak Burrito\n",
            "4618                            Steak Burrito\n",
            "4619                       Chicken Salad Bowl\n",
            "4620                       Chicken Salad Bowl\n",
            "4621                       Chicken Salad Bowl\n",
            "Name: item_name, Length: 4622, dtype: object\n",
            "\n"
          ]
        }
      ]
    },
    {
      "cell_type": "code",
      "source": [
        "#selects and prints all columns for the first two rows of the chipo DataFrame\n",
        "second_loc = chipo.loc[:2]\n",
        "print(f'Second .loc:\\n{second_loc}\\n')"
      ],
      "metadata": {
        "colab": {
          "base_uri": "https://localhost:8080/"
        },
        "id": "F979AFMpyiA9",
        "outputId": "ed914761-259a-40bb-e301-769f4c5f1e31"
      },
      "execution_count": 10,
      "outputs": [
        {
          "output_type": "stream",
          "name": "stdout",
          "text": [
            "Second .loc:\n",
            "   order_id  quantity                     item_name choice_description  \\\n",
            "0         1         1  Chips and Fresh Tomato Salsa                NaN   \n",
            "1         1         1                          Izze       [Clementine]   \n",
            "2         1         1              Nantucket Nectar            [Apple]   \n",
            "\n",
            "  item_price  \n",
            "0     $2.39   \n",
            "1     $3.39   \n",
            "2     $3.39   \n",
            "\n"
          ]
        }
      ]
    },
    {
      "cell_type": "code",
      "source": [
        "#selects and prints 0 and rows and starting from quantity until the end of columns from the chipo DataFrame\n",
        "third_loc = chipo.loc[[0,3],'quantity':]\n",
        "print(f'Third .loc:\\n{third_loc}')"
      ],
      "metadata": {
        "colab": {
          "base_uri": "https://localhost:8080/"
        },
        "id": "FWzV-x-byiPa",
        "outputId": "5d2373b6-6ade-4433-ab8f-86bb053a817f"
      },
      "execution_count": 11,
      "outputs": [
        {
          "output_type": "stream",
          "name": "stdout",
          "text": [
            "Third .loc:\n",
            "   quantity                              item_name choice_description  \\\n",
            "0         1           Chips and Fresh Tomato Salsa                NaN   \n",
            "3         1  Chips and Tomatillo-Green Chili Salsa                NaN   \n",
            "\n",
            "  item_price  \n",
            "0     $2.39   \n",
            "3     $2.39   \n"
          ]
        }
      ]
    },
    {
      "cell_type": "markdown",
      "source": [
        "### Step 9. Which was the most-ordered item?"
      ],
      "metadata": {
        "id": "FocT98oKdqGQ"
      }
    },
    {
      "cell_type": "code",
      "source": [
        "most_ordered_item= pd.read_table(file_path, header=0)\n",
        "highest_ordered_item = most_ordered_item.groupby(['item_name','choice_description'])['choice_description'].agg(['count'])\n",
        "groupby_highest_ordered_item = highest_ordered_item.sort_values(by=\"count\", ascending=False)\n",
        "\n",
        "print(groupby_highest_ordered_item)"
      ],
      "metadata": {
        "id": "SiK-Ksgedsy8",
        "colab": {
          "base_uri": "https://localhost:8080/"
        },
        "outputId": "542a3e6a-921c-4ef5-b688-8c1a535a96af"
      },
      "execution_count": 12,
      "outputs": [
        {
          "output_type": "stream",
          "name": "stdout",
          "text": [
            "                                                                      count\n",
            "item_name         choice_description                                       \n",
            "Canned Soft Drink [Coke]                                                102\n",
            "                  [Diet Coke]                                            95\n",
            "                  [Sprite]                                               55\n",
            "                  [Lemonade]                                             31\n",
            "Canned Soda       [Coca Cola]                                            26\n",
            "...                                                                     ...\n",
            "Chicken Burrito   [Fresh Tomato Salsa, [Cheese, Sour Cream]]              1\n",
            "                  [Fresh Tomato Salsa, [Cheese, Rice, Black Beans...      1\n",
            "                  [Fresh Tomato Salsa, [Cheese, Lettuce]]                 1\n",
            "                  [Fresh Tomato Salsa, [Black Beans, Pinto Beans,...      1\n",
            "Veggie Soft Tacos [Tomatillo Red Chili Salsa, [Fajita Vegetables,...      1\n",
            "\n",
            "[1859 rows x 1 columns]\n"
          ]
        }
      ]
    },
    {
      "cell_type": "code",
      "source": [
        "name_of_most_ordered_item = groupby_highest_ordered_item.head(1).index[0][0]\n",
        "print(f\"The most-ordered item is: {name_of_most_ordered_item}\")"
      ],
      "metadata": {
        "colab": {
          "base_uri": "https://localhost:8080/"
        },
        "id": "tXs8IUXc7FtG",
        "outputId": "7745ced7-8999-495c-9ee9-e3d6b285b27f"
      },
      "execution_count": 13,
      "outputs": [
        {
          "output_type": "stream",
          "name": "stdout",
          "text": [
            "The most-ordered item is: Canned Soft Drink\n"
          ]
        }
      ]
    },
    {
      "cell_type": "markdown",
      "source": [
        "### Step 10. For the most-ordered item, how many items were ordered?"
      ],
      "metadata": {
        "id": "wWRr3x7tdte3"
      }
    },
    {
      "cell_type": "code",
      "source": [
        "name_of_most_ordered_item = groupby_highest_ordered_item.head(1).values[0][0]\n",
        "print(f\"The total of most-ordered item is: {name_of_most_ordered_item}\")"
      ],
      "metadata": {
        "id": "CgoXRzYRdxVZ",
        "colab": {
          "base_uri": "https://localhost:8080/"
        },
        "outputId": "b9f4d781-e92a-4afd-9c0f-2d10744e33ed"
      },
      "execution_count": 14,
      "outputs": [
        {
          "output_type": "stream",
          "name": "stdout",
          "text": [
            "The total of most-ordered item is: 102\n"
          ]
        }
      ]
    },
    {
      "cell_type": "markdown",
      "source": [
        "### Step 11. What was the most ordered item in the choice_description column?"
      ],
      "metadata": {
        "id": "4VuLcvOXd1CJ"
      }
    },
    {
      "cell_type": "code",
      "source": [
        "name_of_most_ordered_item = groupby_highest_ordered_item.head(1).index[0][1]\n",
        "print(f\"The most ordered item in the choice_description column: {name_of_most_ordered_item}\")"
      ],
      "metadata": {
        "id": "8KTII_uEd1f6",
        "colab": {
          "base_uri": "https://localhost:8080/"
        },
        "outputId": "4b338bfd-ec2d-49c7-a5bc-49d193e19238"
      },
      "execution_count": 15,
      "outputs": [
        {
          "output_type": "stream",
          "name": "stdout",
          "text": [
            "The most ordered item in the choice_description column: [Coke]\n"
          ]
        }
      ]
    },
    {
      "cell_type": "markdown",
      "source": [
        "### Step 12. How many items were orderd in total?"
      ],
      "metadata": {
        "id": "Ayz7Atypd3wA"
      }
    },
    {
      "cell_type": "code",
      "source": [
        "total_item =  groupby_highest_ordered_item['count'].sum()\n",
        "\n",
        "print(f\"There are {total_item } ordered in total\")"
      ],
      "metadata": {
        "id": "b5pJd4OVd4G5",
        "colab": {
          "base_uri": "https://localhost:8080/"
        },
        "outputId": "1dbba498-7d49-40d0-c7b9-bc66998233de"
      },
      "execution_count": 16,
      "outputs": [
        {
          "output_type": "stream",
          "name": "stdout",
          "text": [
            "There are 3376 ordered in total\n"
          ]
        }
      ]
    },
    {
      "cell_type": "markdown",
      "source": [
        "### Step 13. Turn the item price into a float"
      ],
      "metadata": {
        "id": "0Pe4BvKsd7Gc"
      }
    },
    {
      "cell_type": "markdown",
      "source": [
        "#### Step 13.a. Check the item price type"
      ],
      "metadata": {
        "id": "x8ie5OgWd_N_"
      }
    },
    {
      "cell_type": "code",
      "source": [
        "#print all list datatypes in all columns\n",
        "print(chipo.dtypes)\n",
        "\n",
        "print()\n",
        "\n",
        "#print datatype of item_price column\n",
        "print(f\"The type of item_price: {chipo['item_price'].dtypes}\")"
      ],
      "metadata": {
        "id": "BbnXTd09eAEe",
        "colab": {
          "base_uri": "https://localhost:8080/"
        },
        "outputId": "9077fb8b-44cc-4001-dd64-aa3766d88c51"
      },
      "execution_count": 22,
      "outputs": [
        {
          "output_type": "stream",
          "name": "stdout",
          "text": [
            "order_id               int64\n",
            "quantity               int64\n",
            "item_name             object\n",
            "choice_description    object\n",
            "item_price            object\n",
            "dtype: object\n",
            "\n",
            "The type of item_price: object\n"
          ]
        }
      ]
    },
    {
      "cell_type": "markdown",
      "source": [
        "#### Step 13.b. Create a lambda function and change the type of item price"
      ],
      "metadata": {
        "id": "FhBGv3CueFGO"
      }
    },
    {
      "cell_type": "code",
      "source": [
        "change_item_price = chipo['item_price'].apply(lambda x: float(x.strip('$')))"
      ],
      "metadata": {
        "id": "IBycDmhoeFlr"
      },
      "execution_count": 25,
      "outputs": []
    },
    {
      "cell_type": "markdown",
      "source": [
        "#### Step 13.c. Check the item price type"
      ],
      "metadata": {
        "id": "ML6F_NYxeHwf"
      }
    },
    {
      "cell_type": "code",
      "source": [
        "change_item_price"
      ],
      "metadata": {
        "id": "uIizvMKBeJwH",
        "colab": {
          "base_uri": "https://localhost:8080/"
        },
        "outputId": "1b80f333-e2b8-4d3e-af30-2ae67a0c1cb3"
      },
      "execution_count": 27,
      "outputs": [
        {
          "output_type": "execute_result",
          "data": {
            "text/plain": [
              "0        2.39\n",
              "1        3.39\n",
              "2        3.39\n",
              "3        2.39\n",
              "4       16.98\n",
              "        ...  \n",
              "4617    11.75\n",
              "4618    11.75\n",
              "4619    11.25\n",
              "4620     8.75\n",
              "4621     8.75\n",
              "Name: item_price, Length: 4622, dtype: float64"
            ]
          },
          "metadata": {},
          "execution_count": 27
        }
      ]
    },
    {
      "cell_type": "markdown",
      "source": [
        "### Step 14. How much was the revenue for the period in the dataset?"
      ],
      "metadata": {
        "id": "fCxkqviEeNBI"
      }
    },
    {
      "cell_type": "code",
      "source": [
        "total_revenue = sum(change_item_price)\n",
        "\n",
        "print(f\"The total revenue is ${total_revenue:.2f}\")"
      ],
      "metadata": {
        "id": "9Tr4Qzd2ePgp",
        "colab": {
          "base_uri": "https://localhost:8080/"
        },
        "outputId": "419605f6-dcb4-4a3b-ac89-2e4d6dbbbe4c"
      },
      "execution_count": 40,
      "outputs": [
        {
          "output_type": "stream",
          "name": "stdout",
          "text": [
            "The total revenue is $34500.16\n"
          ]
        }
      ]
    },
    {
      "cell_type": "markdown",
      "source": [
        "### Step 15. How many orders were made in the period?"
      ],
      "metadata": {
        "id": "0Mr4YROdeSqC"
      }
    },
    {
      "cell_type": "code",
      "source": [
        "total_order_id = chipo['order_id'].count()\n",
        "\n",
        "print(f\"The total orders were made in the period: {total_order_id }\")"
      ],
      "metadata": {
        "id": "X99wDncveTa1",
        "colab": {
          "base_uri": "https://localhost:8080/"
        },
        "outputId": "d6191f7f-fcc5-4e14-d895-2fe66655f83e"
      },
      "execution_count": 30,
      "outputs": [
        {
          "output_type": "stream",
          "name": "stdout",
          "text": [
            "The total orders were made in the period: 4622\n"
          ]
        }
      ]
    },
    {
      "cell_type": "markdown",
      "source": [
        "### Step 16. What is the average revenue amount per order?"
      ],
      "metadata": {
        "id": "s2FRWlegeYdG"
      }
    },
    {
      "cell_type": "code",
      "source": [
        "# Solution 1 - using mathematical logic\n",
        "average_revenue1 = total_revenue/total_order_id\n",
        "\n",
        "print(f\"The total revenue is ${average_revenue1:.2f}\")"
      ],
      "metadata": {
        "id": "84oj8gr9eY9c",
        "colab": {
          "base_uri": "https://localhost:8080/"
        },
        "outputId": "888ef578-b809-4ce7-efb0-166a71e27b6c"
      },
      "execution_count": 41,
      "outputs": [
        {
          "output_type": "stream",
          "name": "stdout",
          "text": [
            "The total revenue is $7.46\n"
          ]
        }
      ]
    },
    {
      "cell_type": "code",
      "source": [
        "# Solution 2 - using mean() function\n",
        "\n",
        "average_revenue2 = change_item_price.mean()\n",
        "\n",
        "print(f\"The total revenue is ${average_revenue2:.2f}\")"
      ],
      "metadata": {
        "id": "w9vLg_43ed7j",
        "colab": {
          "base_uri": "https://localhost:8080/"
        },
        "outputId": "d676459d-aa00-4a08-fb55-6456707706ed"
      },
      "execution_count": 48,
      "outputs": [
        {
          "output_type": "stream",
          "name": "stdout",
          "text": [
            "The total revenue is $7.46\n"
          ]
        }
      ]
    },
    {
      "cell_type": "markdown",
      "source": [
        "### Step 17. How many different items are sold?"
      ],
      "metadata": {
        "id": "6HVc7J3hegC3"
      }
    },
    {
      "cell_type": "code",
      "source": [
        "different_items = chipo['item_name'].nunique()\n",
        "print(f'The different items are sold: {different_items}')"
      ],
      "metadata": {
        "id": "ZMo3tMFzej_h",
        "colab": {
          "base_uri": "https://localhost:8080/"
        },
        "outputId": "51387852-78e8-4288-d73c-c255b2952fda"
      },
      "execution_count": 49,
      "outputs": [
        {
          "output_type": "stream",
          "name": "stdout",
          "text": [
            "The different items are sold: 50\n"
          ]
        }
      ]
    }
  ]
}