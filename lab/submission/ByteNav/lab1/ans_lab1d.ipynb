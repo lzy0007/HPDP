{
  "cells": [
    {
      "cell_type": "markdown",
      "metadata": {
        "id": "view-in-github",
        "colab_type": "text"
      },
      "source": [
        "<a href=\"https://colab.research.google.com/github/drshahizan/HPDP/blob/main/lab/submission/ByteNav/lab1/ans_lab1d.ipynb\" target=\"_parent\"><img src=\"https://colab.research.google.com/assets/colab-badge.svg\" alt=\"Open In Colab\"/></a>"
      ]
    },
    {
      "cell_type": "markdown",
      "metadata": {
        "id": "iTm72Fm9JdMk"
      },
      "source": [
        "# Lab 1d - Filtering and Sorting Data"
      ]
    },
    {
      "cell_type": "markdown",
      "metadata": {
        "id": "SSyZTPKyJdMy"
      },
      "source": [
        "Please use the [**Chipotle Sales dataset**](https://raw.githubusercontent.com/drshahizan/dataset/main/pandas/chipotle.tsv) for this exercise.\n",
        "\n",
        "### Step 1. Import the necessary libraries"
      ]
    },
    {
      "cell_type": "code",
      "execution_count": 1,
      "metadata": {
        "id": "VT53P8xZJdMz"
      },
      "outputs": [],
      "source": [
        "import pandas as pd"
      ]
    },
    {
      "cell_type": "markdown",
      "metadata": {
        "id": "_juQwboCJdM1"
      },
      "source": [
        "### Step 2. Import the dataset from this [address](https://raw.githubusercontent.com/justmarkham/DAT8/master/data/chipotle.tsv)."
      ]
    },
    {
      "cell_type": "code",
      "source": [
        "dataset = \"https://raw.githubusercontent.com/justmarkham/DAT8/master/data/chipotle.tsv\""
      ],
      "metadata": {
        "id": "_4a6RiT2eBpb"
      },
      "execution_count": 2,
      "outputs": []
    },
    {
      "cell_type": "markdown",
      "metadata": {
        "id": "zCQdclLYJdM2"
      },
      "source": [
        "### Step 3. Assign it to a variable called chipo."
      ]
    },
    {
      "cell_type": "code",
      "execution_count": 3,
      "metadata": {
        "id": "i5pOcnK0JdM3"
      },
      "outputs": [],
      "source": [
        "chipo = pd.read_csv(dataset, sep='\\t', encoding='utf-8')"
      ]
    },
    {
      "cell_type": "markdown",
      "metadata": {
        "id": "Yz1f2xflJdM3"
      },
      "source": [
        "### Step 4. How many products cost more than $10.00?"
      ]
    },
    {
      "cell_type": "code",
      "execution_count": 22,
      "metadata": {
        "colab": {
          "base_uri": "https://localhost:8080/"
        },
        "id": "VqIOwv2aJdM4",
        "outputId": "6c7cc5d4-c890-4a28-e3b1-fd8fa3e71445"
      },
      "outputs": [
        {
          "output_type": "stream",
          "name": "stdout",
          "text": [
            "Number of products cost more than $10.00: 1130\n"
          ]
        }
      ],
      "source": [
        "chipo['item_price'] = chipo['item_price'].astype(str).str.replace('$', '', regex=False).astype(float)\n",
        "\n",
        "products_morethan10 = chipo[chipo['item_price'] > 10.00]\n",
        "num_products_morethan10 = products_morethan10.shape[0]\n",
        "print(\"Number of products cost more than $10.00:\", num_products_morethan10)"
      ]
    },
    {
      "cell_type": "markdown",
      "metadata": {
        "id": "XW_MTCJAJdM4"
      },
      "source": [
        "### Step 5. What is the price of each item?\n",
        "###### print a data frame with only two columns item_name and item_price"
      ]
    },
    {
      "cell_type": "code",
      "execution_count": 32,
      "metadata": {
        "colab": {
          "base_uri": "https://localhost:8080/"
        },
        "id": "GJdlqIvXJdM5",
        "outputId": "284c3448-1ee0-4a62-ad61-9aae0ea833b0"
      },
      "outputs": [
        {
          "output_type": "stream",
          "name": "stdout",
          "text": [
            "                                  item_name  item_price\n",
            "0              Chips and Fresh Tomato Salsa        2.39\n",
            "1                                      Izze        3.39\n",
            "2                          Nantucket Nectar        3.39\n",
            "3     Chips and Tomatillo-Green Chili Salsa        2.39\n",
            "4                              Chicken Bowl       16.98\n",
            "...                                     ...         ...\n",
            "4617                          Steak Burrito       11.75\n",
            "4618                          Steak Burrito       11.75\n",
            "4619                     Chicken Salad Bowl       11.25\n",
            "4620                     Chicken Salad Bowl        8.75\n",
            "4621                     Chicken Salad Bowl        8.75\n",
            "\n",
            "[4622 rows x 2 columns]\n"
          ]
        }
      ],
      "source": [
        "price_item = chipo[['item_name','item_price']]\n",
        "print(price_item)"
      ]
    },
    {
      "cell_type": "markdown",
      "metadata": {
        "id": "xKBphfrKJdM5"
      },
      "source": [
        "### Step 6. Sort by the name of the item"
      ]
    },
    {
      "cell_type": "code",
      "execution_count": 35,
      "metadata": {
        "id": "7TAilfSiJdM5"
      },
      "outputs": [],
      "source": [
        "sorted_item = chipo.sort_values(by='item_name')"
      ]
    },
    {
      "cell_type": "markdown",
      "metadata": {
        "id": "MwXTMWk8JdM5"
      },
      "source": [
        "### Step 7. What was the quantity of the most expensive item ordered?"
      ]
    },
    {
      "cell_type": "code",
      "execution_count": 40,
      "metadata": {
        "colab": {
          "base_uri": "https://localhost:8080/"
        },
        "id": "4jKGViUZJdM6",
        "outputId": "ba00b224-5abe-4b12-b741-cb5e20d73ec8"
      },
      "outputs": [
        {
          "output_type": "stream",
          "name": "stdout",
          "text": [
            "Quantity of the most expensive item ordered: 15\n"
          ]
        }
      ],
      "source": [
        "most_expensive_item = chipo[chipo['item_price'] == chipo['item_price'].max()]\n",
        "quantity_most_expensive = most_expensive_item['quantity'].values[0]\n",
        "print(\"Quantity of the most expensive item ordered:\", quantity_most_expensive)"
      ]
    },
    {
      "cell_type": "markdown",
      "metadata": {
        "id": "YOQbmBxnJdM6"
      },
      "source": [
        "### Step 8. How many times was a Veggie Salad Bowl ordered?"
      ]
    },
    {
      "cell_type": "code",
      "execution_count": 41,
      "metadata": {
        "colab": {
          "base_uri": "https://localhost:8080/"
        },
        "id": "sxYiqevgJdM6",
        "outputId": "97c94eba-86d0-4edb-98dd-647a1947faec"
      },
      "outputs": [
        {
          "output_type": "stream",
          "name": "stdout",
          "text": [
            "Number of times Veggie Salad Bowl was ordered: 18\n"
          ]
        }
      ],
      "source": [
        "veggie_salad_bowl_ordered = chipo[chipo['item_name'] == 'Veggie Salad Bowl']\n",
        "num_veggie_salad_bowl_ordered = veggie_salad_bowl_ordered['quantity'].sum()\n",
        "print(\"Number of times Veggie Salad Bowl was ordered:\", num_veggie_salad_bowl_ordered)"
      ]
    },
    {
      "cell_type": "markdown",
      "metadata": {
        "id": "ubGzS1TIJdM6"
      },
      "source": [
        "### Step 9. How many times did someone order more than one Canned Soda?"
      ]
    },
    {
      "cell_type": "code",
      "execution_count": 44,
      "metadata": {
        "colab": {
          "base_uri": "https://localhost:8080/"
        },
        "id": "uz9srDFrJdM6",
        "outputId": "a8002482-d9cc-4ca8-e98b-a326351458ba"
      },
      "outputs": [
        {
          "output_type": "stream",
          "name": "stdout",
          "text": [
            "Number of times someone order more than one Canned Soda: 20\n"
          ]
        }
      ],
      "source": [
        "canned_soda_order = chipo[(chipo['item_name'] == 'Canned Soda') & (chipo['quantity'] > 1)]\n",
        "num_canned_soda_order = canned_soda_order.shape[0]\n",
        "print(\"Number of times someone order more than one Canned Soda:\", num_canned_soda_order)"
      ]
    }
  ],
  "metadata": {
    "kernelspec": {
      "display_name": "Python 2",
      "language": "python",
      "name": "python2"
    },
    "language_info": {
      "codemirror_mode": {
        "name": "ipython",
        "version": 2
      },
      "file_extension": ".py",
      "mimetype": "text/x-python",
      "name": "python",
      "nbconvert_exporter": "python",
      "pygments_lexer": "ipython2",
      "version": "2.7.11"
    },
    "colab": {
      "provenance": [],
      "include_colab_link": true
    }
  },
  "nbformat": 4,
  "nbformat_minor": 0
}